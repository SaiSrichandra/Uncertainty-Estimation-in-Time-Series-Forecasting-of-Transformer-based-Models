{
  "nbformat": 4,
  "nbformat_minor": 0,
  "metadata": {
    "colab": {
      "provenance": []
    },
    "kernelspec": {
      "name": "python3",
      "display_name": "Python 3"
    },
    "language_info": {
      "name": "python"
    }
  },
  "cells": [
    {
      "cell_type": "code",
      "execution_count": null,
      "metadata": {
        "id": "uIUhwIJmDEhP"
      },
      "outputs": [],
      "source": [
        "import numpy as np\n",
        "import pandas as pd\n",
        "import ast"
      ]
    },
    {
      "cell_type": "code",
      "source": [
        "def AUSE(df_uncertainty_error):\n",
        "    df_uncertainty_sorted = df_uncertainty_error.sort_values(by='Uncertainty', ascending=False)\n",
        "    df_error_sorted = df_uncertainty_error.sort_values(by='Error', ascending=False)\n",
        "\n",
        "    error_model = [df_uncertainty_sorted['Error'].mean()]\n",
        "    for i in range(len(df_uncertainty_sorted)):\n",
        "        if i < len(df_uncertainty_sorted) - 1:\n",
        "            error_model.append(df_uncertainty_sorted['Error'].iloc[i+1:].mean())\n",
        "        else:\n",
        "            error_model.append(0)\n",
        "\n",
        "    error_oracle = [df_error_sorted['Error'].mean()]\n",
        "    for i in range(len(df_error_sorted)):\n",
        "        if i < len(df_error_sorted) - 1:\n",
        "            error_oracle.append(df_error_sorted['Error'].iloc[i+1:].mean())\n",
        "        else:\n",
        "            error_oracle.append(0)\n",
        "\n",
        "    error_abs = [abs(m - o) for m, o in zip(error_model, error_oracle)]\n",
        "\n",
        "    AUSE_value = sum(error_abs) / (len(error_abs)-1)\n",
        "    #print(error_model)\n",
        "    #print(error_oracle)\n",
        "    #print(error_abs)\n",
        "\n",
        "    return AUSE_value"
      ],
      "metadata": {
        "id": "yWaM0mxatDfx"
      },
      "execution_count": null,
      "outputs": []
    },
    {
      "cell_type": "code",
      "source": [
        "def calc_corr_from_csv_method_1a(path, mname, opr, loc, param):\n",
        "\n",
        "  df = pd.read_csv(path)\n",
        "\n",
        "  Var = []\n",
        "  Error = []\n",
        "  for jj in range(1,3001,100):\n",
        "    df_jj = df[df['input'] == jj]\n",
        "\n",
        "    df_jj_0 = df_jj[df_jj['conv_layer_no'] == 0]\n",
        "    df_jj_n0 = df_jj[df_jj['conv_layer_no'] != 0]\n",
        "\n",
        "    Y = np.mean(np.array(df_jj_0['true_val']))\n",
        "    foi = np.mean(np.array(df_jj_0['output']))\n",
        "\n",
        "\n",
        "    e_jj = np.abs(Y - foi)\n",
        "    var_jj = np.var(np.array(df_jj_n0['output']))\n",
        "\n",
        "    Var.append(var_jj)\n",
        "    Error.append(e_jj)\n",
        "    # z0_df = df[df['location'] == 0].reset_index(drop = True)\n",
        "\n",
        "    # z0_list = []\n",
        "    # for i in z0_df['output'].apply(ast.literal_eval):\n",
        "    #   z0_list.append(i)\n",
        "\n",
        "    # z0_array = np.array(z0_list)\n",
        "    # z0 = np.mean(z0_array, axis=0)\n",
        "\n",
        "    # z_df = df[df['location'] != 0].reset_index(drop = True)\n",
        "    # z_list = []\n",
        "    # for i in z_df['output'].apply(ast.literal_eval):\n",
        "    #   z_list.append(i)\n",
        "    # z_array = np.array(z_list)\n",
        "\n",
        "    # e = np.abs(z0-Y)\n",
        "    # l = e.shape[0]\n",
        "    # var_z = np.var(z_array, axis=0)\n",
        "  corr = np.corrcoef(np.array(Error), np.array(Var))[0,1]\n",
        "\n",
        "  csv_path = \"/content/AUSE/AUSE_{}_{}_conv_{}_{}.csv\".format(mname,opr,loc, param)\n",
        "  pd.DataFrame({'Error' : Error, 'Uncertainty' : Var}).to_csv(csv_path, index=True)\n",
        "\n",
        "  dff = pd.read_csv(\"/content/correlation_data.csv\")\n",
        "  dfnn = pd.DataFrame({'model' : [mname], 'operation' : [opr], 'parameter' : [param], 'location' : [loc], 'corr_value' : [corr]})\n",
        "  pd.concat([dff, dfnn], ignore_index = True) .to_csv(\"/content/correlation_data.csv\", index=False)\n",
        "  print(corr)\n",
        "  return"
      ],
      "metadata": {
        "id": "aCGcqr6GNplY"
      },
      "execution_count": null,
      "outputs": []
    },
    {
      "cell_type": "code",
      "source": [
        "pd.DataFrame({'model' : [], 'operation' : [], 'parameter' : [], 'location' : [], 'corr_value' : []}).to_csv(\"/content/correlation_data.csv\")"
      ],
      "metadata": {
        "id": "vfwL8KjCdvPx"
      },
      "execution_count": null,
      "outputs": []
    },
    {
      "cell_type": "code",
      "source": [
        "for l in [1,2,3]:\n",
        "  for p in [0.01,0.05, 0.2]:\n",
        "    calc_corr_from_csv_method_1a('New_infer_noise_inf_{}_{}.csv'.format(l,p), mname='informer', opr = 'noise', loc = l, param = p)"
      ],
      "metadata": {
        "colab": {
          "base_uri": "https://localhost:8080/"
        },
        "id": "af--8zGcOArf",
        "outputId": "3f984afb-9913-40b4-c506-f36e8b0c13ae"
      },
      "execution_count": null,
      "outputs": [
        {
          "output_type": "stream",
          "name": "stdout",
          "text": [
            "-0.1452930782849414\n",
            "-0.18034281769372332\n",
            "-0.13479763913935924\n",
            "-0.08992245789639715\n",
            "-0.04791693782537201\n",
            "-0.06816821043835572\n",
            "-0.1646961247362972\n",
            "-0.1620759734778972\n",
            "-0.2144221455328432\n"
          ]
        }
      ]
    },
    {
      "cell_type": "code",
      "source": [
        "for l in [1,2,3]:\n",
        "  for p in [0.01,0.05, 0.2]:\n",
        "    calc_corr_from_csv_method_1a('New_infer_noise_trans_{}_{}.csv'.format(l,p), mname='transformer', opr = 'noise', loc = l, param = p)"
      ],
      "metadata": {
        "colab": {
          "base_uri": "https://localhost:8080/"
        },
        "id": "rQMby-qOOAcl",
        "outputId": "55dd766b-8e58-4c68-8a5b-0331d139a5b1"
      },
      "execution_count": null,
      "outputs": [
        {
          "output_type": "stream",
          "name": "stdout",
          "text": [
            "-0.09978424296837307\n",
            "-0.1539708361902994\n",
            "-0.09984316095096993\n",
            "0.058573844492171366\n",
            "-0.08908226801504171\n",
            "-0.056665617419235884\n",
            "-0.19890924657541878\n",
            "-0.3630957635450492\n",
            "-0.006568139114336979\n"
          ]
        }
      ]
    },
    {
      "cell_type": "code",
      "source": [
        "for l in [1,2,3]:\n",
        "  for p in [0.1,0.2, 0.5]:\n",
        "    calc_corr_from_csv_method_1a('New_infer_dropout_inf_{}_{}.csv'.format(l,p), mname='informer', opr = 'dropout', loc = l, param = p)"
      ],
      "metadata": {
        "colab": {
          "base_uri": "https://localhost:8080/"
        },
        "id": "95JGXSGYOACz",
        "outputId": "9f20a5a4-8982-48bb-eb3e-65a8ba19b8e1"
      },
      "execution_count": null,
      "outputs": [
        {
          "output_type": "stream",
          "name": "stdout",
          "text": [
            "-0.0304192604913159\n",
            "-0.06110426345891504\n",
            "0.3044672061437845\n",
            "0.5888184272042228\n",
            "0.38821889095887024\n",
            "-2.8200137451906876e-05\n",
            "0.27452329856809865\n",
            "0.12729810109389153\n",
            "0.057854650840867466\n"
          ]
        }
      ]
    },
    {
      "cell_type": "code",
      "source": [
        "for l in [1,2,3]:\n",
        "  for p in [0.1,0.2, 0.5]:\n",
        "    calc_corr_from_csv_method_1a('New_infer_dropout_trans_{}_{}.csv'.format(l,p), mname='transformer', opr = 'dropout', loc = l, param = p)"
      ],
      "metadata": {
        "colab": {
          "base_uri": "https://localhost:8080/"
        },
        "id": "shGReHt1N_jT",
        "outputId": "03dd68ca-a169-471d-fa9e-b0cc077845b0"
      },
      "execution_count": null,
      "outputs": [
        {
          "output_type": "stream",
          "name": "stdout",
          "text": [
            "0.17374028946428444\n",
            "0.0080051776148986\n",
            "-0.09147170597215319\n",
            "-0.013237467193002015\n",
            "-0.18919718122569998\n",
            "-0.02232827178630869\n",
            "-0.11715517703594945\n",
            "-0.07281292887550843\n",
            "-0.050441591427550184\n"
          ]
        }
      ]
    },
    {
      "cell_type": "code",
      "source": [
        "for l in [1,2,3]:\n",
        "  for p in [0.1,0.2, 0.5]:\n",
        "    calc_corr_from_csv_method_1a('New_MCdropout_inf_{}_{}.csv'.format(l,p), mname='informer', opr = 'MCdropout', loc = l, param = p)"
      ],
      "metadata": {
        "colab": {
          "base_uri": "https://localhost:8080/"
        },
        "id": "0LtVsffKN-Ob",
        "outputId": "fae5ca0f-3db1-4a6e-e262-75d38f5f62f0"
      },
      "execution_count": null,
      "outputs": [
        {
          "output_type": "stream",
          "name": "stdout",
          "text": [
            "-0.014766117161723012\n",
            "-0.19967352447838488\n",
            "0.08313790991279855\n",
            "-0.15538214558737706\n",
            "-0.2259927738928406\n",
            "-0.010483906016581236\n",
            "-0.27849605365206975\n",
            "-0.11479976156161241\n",
            "0.32021631529246775\n"
          ]
        }
      ]
    },
    {
      "cell_type": "code",
      "source": [
        "for l in [1,2,3]:\n",
        "  for p in [0.1,0.2, 0.5]:\n",
        "    calc_corr_from_csv_method_1a('New_MCdropout_trans_{}_{}.csv'.format(l,p), mname='transformer', opr = 'MCdropout', loc = l, param = p)"
      ],
      "metadata": {
        "colab": {
          "base_uri": "https://localhost:8080/"
        },
        "id": "xwe63TuxCzQY",
        "outputId": "db5a253b-deeb-4874-c3dc-24af98ea27e0"
      },
      "execution_count": null,
      "outputs": [
        {
          "output_type": "stream",
          "name": "stdout",
          "text": [
            "-0.10993333792628246\n",
            "-0.08270294917819533\n",
            "0.13444355516612969\n",
            "-0.16042889383993186\n",
            "-0.033178709422309355\n",
            "0.18089901391317062\n",
            "-0.2519113459922621\n",
            "-0.07845708406585807\n",
            "-0.23302840348205084\n"
          ]
        }
      ]
    },
    {
      "cell_type": "code",
      "source": [
        "def calc_corr_from_csv_method_2(path, mname, opr, loc, param):\n",
        "\n",
        "  df = pd.read_csv(path)\n",
        "\n",
        "  AUSE_Scr = []\n",
        "  Corr = []\n",
        "  for jj in range(1,3001,100):\n",
        "    df_jj = df[df['input'] == jj]\n",
        "\n",
        "    df_jj_0 = df_jj[df_jj['conv_layer_no'] == 0].reset_index(drop = True)\n",
        "\n",
        "    df_jj_n0 = df_jj[df_jj['conv_layer_no'] != 0].reset_index(drop = True)\n",
        "\n",
        "    Y = np.array(df_jj_0['true_val'].apply(ast.literal_eval).iloc[0])\n",
        "\n",
        "    z0_list = []\n",
        "    for i in df_jj_0['output'].apply(ast.literal_eval):\n",
        "      z0_list.append(i)\n",
        "\n",
        "    z0_array = np.array(z0_list)\n",
        "\n",
        "    z0 = np.mean(z0_array, axis=0)\n",
        "\n",
        "\n",
        "    z_list = []\n",
        "    for i in df_jj_n0['output'].apply(ast.literal_eval):\n",
        "      z_list.append(i)\n",
        "    z_array = np.array(z_list)\n",
        "\n",
        "    e = np.abs(z0-Y)\n",
        "\n",
        "    l = e.shape[0]\n",
        "    var_z = np.var(z_array, axis=0)\n",
        "\n",
        "    corr = np.corrcoef(e, var_z)[0,1]\n",
        "    Corr.append(corr)\n",
        "\n",
        "    ause_calc_df = pd.DataFrame({'Error' : e, 'Uncertainty' : var_z})\n",
        "    ause_scr = AUSE(ause_calc_df)\n",
        "    AUSE_Scr.append(ause_scr)\n",
        "    break\n",
        "\n",
        "  avg_corr = np.mean(np.array(Corr))\n",
        "  avg_ause = np.mean(np.array(AUSE_Scr))\n",
        "\n",
        "  # csv_path = \"/content/AUSE/AUSE_{}_{}_conv_{}_{}.csv\".format(mname,opr,loc, param)\n",
        "\n",
        "\n",
        "  dff = pd.read_csv(\"/content/correlation_data.csv\")\n",
        "  dfnn = pd.DataFrame({'model' : [mname], 'operation' : [opr], 'parameter' : [param], 'location' : [loc], 'corr_value' : [avg_corr], 'ause' : [avg_ause]})\n",
        "  pd.concat([dff, dfnn], ignore_index = True) .to_csv(\"/content/correlation_data.csv\", index=False)\n",
        "  print(avg_corr)\n",
        "  return"
      ],
      "metadata": {
        "id": "z04fegpnyvN8"
      },
      "execution_count": null,
      "outputs": []
    },
    {
      "cell_type": "code",
      "source": [
        "pd.DataFrame({'model' : [], 'operation' : [], 'parameter' : [], 'location' : [], 'corr_value' : []}).to_csv(\"/content/correlation_data.csv\")"
      ],
      "metadata": {
        "id": "2_sz7zjEvsRR"
      },
      "execution_count": null,
      "outputs": []
    },
    {
      "cell_type": "code",
      "source": [
        "for l in [1,2,3]:\n",
        "  for p in [0.01,0.05, 0.2]:\n",
        "    calc_corr_from_csv_method_2('New_infer_noise_inf_{}_{}.csv'.format(l,p), mname='informer', opr = 'noise', loc = l, param = p)"
      ],
      "metadata": {
        "colab": {
          "base_uri": "https://localhost:8080/"
        },
        "id": "HYl9F_DawCKh",
        "outputId": "39deb032-398c-4af4-a3d2-82e71a80afba"
      },
      "execution_count": null,
      "outputs": [
        {
          "output_type": "stream",
          "name": "stdout",
          "text": [
            "-0.5583284151151721\n",
            "-0.44579747071815556\n",
            "-0.2753262350942478\n",
            "-0.4142717896071817\n",
            "-0.3307164977320372\n",
            "-0.11841635724380947\n",
            "-0.5281954211509977\n",
            "-0.428210085797154\n",
            "-0.22383844183670648\n"
          ]
        }
      ]
    },
    {
      "cell_type": "code",
      "source": [
        "for l in [1,2,3]:\n",
        "  for p in [0.1,0.2, 0.5]:\n",
        "    calc_corr_from_csv_method_2('New_infer_dropout_inf_{}_{}.csv'.format(l,p), mname='informer', opr = 'dropout', loc = l, param = p)"
      ],
      "metadata": {
        "colab": {
          "base_uri": "https://localhost:8080/"
        },
        "id": "mQvytdjvv_xt",
        "outputId": "5a1aaf97-cd89-496d-a7d6-372d0847cb5e"
      },
      "execution_count": null,
      "outputs": [
        {
          "output_type": "stream",
          "name": "stdout",
          "text": [
            "-0.3251055452284056\n",
            "-0.39110559117491406\n",
            "-0.1955557670071165\n",
            "-0.27549393407431394\n",
            "-0.37974960694481436\n",
            "-0.3036116560717304\n",
            "-0.1533106114376562\n",
            "-0.21169037176708444\n",
            "-0.14815410902866366\n"
          ]
        }
      ]
    },
    {
      "cell_type": "code",
      "source": [
        "for l in [1,2,3]:\n",
        "  for p in [0.01,0.05, 0.2]:\n",
        "    calc_corr_from_csv_method_2('New_infer_noise_trans_{}_{}.csv'.format(l,p), mname='transformer', opr = 'noise', loc = l, param = p)"
      ],
      "metadata": {
        "colab": {
          "base_uri": "https://localhost:8080/"
        },
        "id": "Pvvmz0OOwBIl",
        "outputId": "8f063fe5-030a-43ff-a5b6-92464dd82582"
      },
      "execution_count": null,
      "outputs": [
        {
          "output_type": "stream",
          "name": "stdout",
          "text": [
            "0.20434014760537622\n",
            "0.18794687428048515\n",
            "0.1936981208207235\n",
            "0.16765863217935256\n",
            "0.1697054253678697\n",
            "0.13068481579844862\n",
            "0.11356828689315562\n",
            "-0.1980619843669886\n",
            "0.09102884309529491\n"
          ]
        }
      ]
    },
    {
      "cell_type": "code",
      "source": [
        "for l in [1,2,3]:\n",
        "  for p in [0.1,0.2, 0.5]:\n",
        "    calc_corr_from_csv_method_2('New_infer_dropout_trans_{}_{}.csv'.format(l,p), mname='transformer', opr = 'dropout', loc = l, param = p)"
      ],
      "metadata": {
        "colab": {
          "base_uri": "https://localhost:8080/"
        },
        "id": "KSNsacp5v_AQ",
        "outputId": "fd88ce5f-dc57-4bb1-d508-da12da927cf0"
      },
      "execution_count": null,
      "outputs": [
        {
          "output_type": "stream",
          "name": "stdout",
          "text": [
            "0.4170734977511929\n",
            "0.45434244890253517\n",
            "0.23199586062585803\n",
            "0.4584251687655816\n",
            "0.2329527602079578\n",
            "0.3511965357589612\n",
            "0.1765412940164129\n",
            "0.3750326972864405\n",
            "0.34877498932548956\n"
          ]
        }
      ]
    },
    {
      "cell_type": "code",
      "source": [
        "for l in [1,2,3]:\n",
        "  for p in [0.1,0.2, 0.5]:\n",
        "    calc_corr_from_csv_method_2('New_MCdropout_inf_{}_{}.csv'.format(l,p), mname='informer', opr = 'MCdropout', loc = l, param = p)"
      ],
      "metadata": {
        "colab": {
          "base_uri": "https://localhost:8080/"
        },
        "id": "jCrGM6J0v-J9",
        "outputId": "14a0fe74-86cf-4b99-82f0-4998cbe6e3c3"
      },
      "execution_count": null,
      "outputs": [
        {
          "output_type": "stream",
          "name": "stdout",
          "text": [
            "0.49760688968744315\n",
            "-0.05107785273280608\n",
            "0.1087970035355928\n",
            "0.06751411790599046\n",
            "0.13252343376187856\n",
            "-0.2891306862522887\n",
            "0.12753913801981662\n",
            "-0.05976868568740945\n",
            "-0.08292174323123717\n"
          ]
        }
      ]
    },
    {
      "cell_type": "code",
      "source": [
        "for l in [1,2,3]:\n",
        "  for p in [0.1,0.2, 0.5]:\n",
        "    calc_corr_from_csv_method_2('New_MCdropout_trans_{}_{}.csv'.format(l,p), mname='transformer', opr = 'MCdropout', loc = l, param = p)"
      ],
      "metadata": {
        "colab": {
          "base_uri": "https://localhost:8080/"
        },
        "id": "D-bugKTnvwEZ",
        "outputId": "1be50f88-bf8e-4627-97c7-42af41df832e"
      },
      "execution_count": null,
      "outputs": [
        {
          "output_type": "stream",
          "name": "stdout",
          "text": [
            "-0.02984301076914242\n",
            "0.1148252054299447\n",
            "0.09042301532721167\n",
            "0.4080634593200292\n",
            "0.14024841748811395\n",
            "0.2892199294672521\n",
            "-0.1853226754662593\n",
            "-0.20123439542084767\n",
            "-0.02812668076869288\n"
          ]
        }
      ]
    },
    {
      "cell_type": "code",
      "source": [
        "def calc_corr_from_csv_method_1b(path, mname, opr, loc, param):\n",
        "\n",
        "  df = pd.read_csv(path)\n",
        "\n",
        "  Err = []\n",
        "  Var = []\n",
        "  for jj in range(1,3001,100):\n",
        "    df_jj = df[df['input'] == jj]\n",
        "\n",
        "    df_jj_0 = df_jj[df_jj['conv_layer_no'] == 0].reset_index(drop = True)\n",
        "\n",
        "    df_jj_n0 = df_jj[df_jj['conv_layer_no'] != 0].reset_index(drop = True)\n",
        "\n",
        "    Y = np.array(df_jj_0['true_val'].apply(ast.literal_eval).iloc[0])[2]\n",
        "\n",
        "    z0_list = []\n",
        "    for i in df_jj_0['output'].apply(ast.literal_eval):\n",
        "      z0_list.append(i)\n",
        "\n",
        "    z0_array = np.array(z0_list)\n",
        "\n",
        "    z0 = np.mean(z0_array, axis=0)[2]\n",
        "\n",
        "\n",
        "    z_list = []\n",
        "    for i in df_jj_n0['output'].apply(ast.literal_eval):\n",
        "      z_list.append(i)\n",
        "    z_array = np.array(z_list)[:,2]\n",
        "\n",
        "    e = np.abs(z0-Y)\n",
        "\n",
        "    # l = e.shape[0]\n",
        "    var_z = np.var(z_array)\n",
        "    Err.append(e)\n",
        "    Var.append(var_z)\n",
        "\n",
        "  corr = np.corrcoef(np.array(Err), np.array(Var))[0,1]\n",
        "  # Corr.append(corr)\n",
        "\n",
        "  ause_calc_df = pd.DataFrame({'Error' : Err, 'Uncertainty' : Var})\n",
        "  ause_scr = AUSE(ause_calc_df)\n",
        "\n",
        "  # csv_path = \"/content/AUSE/AUSE_{}_{}_conv_{}_{}.csv\".format(mname,opr,loc, param)\n",
        "\n",
        "\n",
        "  dff = pd.read_csv(\"/content/correlation_data.csv\")\n",
        "  dfnn = pd.DataFrame({'model' : [mname], 'operation' : [opr], 'parameter' : [param], 'location' : [loc], 'corr_value' : [corr], 'ause' : [ause_scr]})\n",
        "  pd.concat([dff, dfnn], ignore_index = True) .to_csv(\"/content/correlation_data.csv\", index=False)\n",
        "  print(corr)\n",
        "  return"
      ],
      "metadata": {
        "id": "iHJYeQA32kEz"
      },
      "execution_count": null,
      "outputs": []
    },
    {
      "cell_type": "code",
      "source": [
        "pd.DataFrame({'model' : [], 'operation' : [], 'parameter' : [], 'location' : [], 'corr_value' : []}).to_csv(\"/content/correlation_data.csv\")"
      ],
      "metadata": {
        "id": "4IWyz-65OFCa"
      },
      "execution_count": null,
      "outputs": []
    },
    {
      "cell_type": "code",
      "source": [
        "for l in [1,2,3]:\n",
        "  for p in [0.01,0.05, 0.2]:\n",
        "    calc_corr_from_csv_method_1b('New_infer_noise_inf_{}_{}.csv'.format(l,p), mname='informer', opr = 'noise', loc = l, param = p)"
      ],
      "metadata": {
        "colab": {
          "base_uri": "https://localhost:8080/"
        },
        "id": "ZNwfPd87Euhb",
        "outputId": "64f1e0eb-f878-44ef-e474-2cccd05de299"
      },
      "execution_count": null,
      "outputs": [
        {
          "output_type": "stream",
          "name": "stdout",
          "text": [
            "-0.07027615387821409\n",
            "-0.02684123473708919\n",
            "0.06904304841769454\n",
            "0.06803828230432092\n",
            "-0.08047308245689533\n",
            "0.021961406320245506\n",
            "-0.17379501042564804\n",
            "0.05170348517112109\n",
            "-0.17050932141391567\n"
          ]
        }
      ]
    },
    {
      "cell_type": "code",
      "source": [
        "for l in [1,2,3]:\n",
        "  for p in [0.1,0.2, 0.5]:\n",
        "    calc_corr_from_csv_method_1b('New_infer_dropout_inf_{}_{}.csv'.format(l,p), mname='informer', opr = 'dropout', loc = l, param = p)"
      ],
      "metadata": {
        "colab": {
          "base_uri": "https://localhost:8080/"
        },
        "id": "9rjS_c-5Etk4",
        "outputId": "d88fa546-67ce-4704-e148-3ba375d32354"
      },
      "execution_count": null,
      "outputs": [
        {
          "output_type": "stream",
          "name": "stdout",
          "text": [
            "0.21432230099937194\n",
            "0.4065265522848934\n",
            "0.04104439174885594\n",
            "0.05156472300498825\n",
            "-0.09055181629271833\n",
            "-0.019285972011340913\n",
            "-0.18064528232505808\n",
            "0.0262040582083883\n",
            "0.03556341423085952\n"
          ]
        }
      ]
    },
    {
      "cell_type": "code",
      "source": [
        "for l in [1,2,3]:\n",
        "  for p in [0.01,0.05, 0.2]:\n",
        "    calc_corr_from_csv_method_1b('New_infer_noise_trans_{}_{}.csv'.format(l,p), mname='transformer', opr = 'noise', loc = l, param = p)"
      ],
      "metadata": {
        "colab": {
          "base_uri": "https://localhost:8080/"
        },
        "id": "F5UiAn51Ewaj",
        "outputId": "eb90c892-3573-4cba-d45a-67982edc11c8"
      },
      "execution_count": null,
      "outputs": [
        {
          "output_type": "stream",
          "name": "stdout",
          "text": [
            "-0.25703130546132724\n",
            "-0.1871041940941261\n",
            "-0.22416550798065937\n",
            "-0.258829872923887\n",
            "-0.42220104691255567\n",
            "-0.24786754679103545\n",
            "-0.2753701141330585\n",
            "-0.16626130542028805\n",
            "-0.07232656909444712\n"
          ]
        }
      ]
    },
    {
      "cell_type": "code",
      "source": [
        "for l in [1,2,3]:\n",
        "  for p in [0.1,0.2, 0.5]:\n",
        "    calc_corr_from_csv_method_1b('New_infer_dropout_trans_{}_{}.csv'.format(l,p), mname='transformer', opr = 'dropout', loc = l, param = p)"
      ],
      "metadata": {
        "colab": {
          "base_uri": "https://localhost:8080/"
        },
        "id": "Tr-N5NwzEsu6",
        "outputId": "09aa93df-d7fa-407b-c27c-ee119e26589f"
      },
      "execution_count": null,
      "outputs": [
        {
          "output_type": "stream",
          "name": "stdout",
          "text": [
            "0.51646292061197\n",
            "0.3591681159687255\n",
            "0.21590817727206602\n",
            "0.15883884268093493\n",
            "0.10366652474491049\n",
            "0.04643478866482224\n",
            "-0.007198984368811743\n",
            "0.0038633378093416507\n",
            "-0.16207945919057704\n"
          ]
        }
      ]
    },
    {
      "cell_type": "code",
      "source": [
        "for l in [1,2,3]:\n",
        "  for p in [0.1,0.2, 0.5]:\n",
        "    calc_corr_from_csv_method_1b('New_MCdropout_inf_{}_{}.csv'.format(l,p), mname='informer', opr = 'MCdropout', loc = l, param = p)"
      ],
      "metadata": {
        "colab": {
          "base_uri": "https://localhost:8080/"
        },
        "id": "AZzDg9_QEsJd",
        "outputId": "b75b1ed7-f62a-4950-aea1-4f310462a6d3"
      },
      "execution_count": null,
      "outputs": [
        {
          "output_type": "stream",
          "name": "stdout",
          "text": [
            "0.22452372536139617\n",
            "0.010842230063937586\n",
            "0.3745838264988155\n",
            "-0.06712363155203462\n",
            "-0.016457017716107913\n",
            "-0.18194482322085045\n",
            "-0.15830723188027512\n",
            "0.04998633469269048\n",
            "0.22591802832795868\n"
          ]
        }
      ]
    },
    {
      "cell_type": "code",
      "source": [
        "for l in [1,2,3]:\n",
        "  for p in [0.1,0.2, 0.5]:\n",
        "    calc_corr_from_csv_method_1b('New_MCdropout_trans_{}_{}.csv'.format(l,p), mname='transformer', opr = 'MCdropout', loc = l, param = p)"
      ],
      "metadata": {
        "colab": {
          "base_uri": "https://localhost:8080/"
        },
        "id": "-z7bl5P6C-st",
        "outputId": "33501663-fc20-4b99-f6e9-633f298791e4"
      },
      "execution_count": null,
      "outputs": [
        {
          "output_type": "stream",
          "name": "stdout",
          "text": [
            "0.2605864082106324\n",
            "-0.42609829060630194\n",
            "0.6083472825527795\n",
            "-0.08486351028802447\n",
            "0.33225788370374937\n",
            "-0.40324392024435085\n",
            "-0.056068923725599844\n",
            "-0.43167693439575344\n",
            "0.5957336037997212\n"
          ]
        }
      ]
    }
  ]
}